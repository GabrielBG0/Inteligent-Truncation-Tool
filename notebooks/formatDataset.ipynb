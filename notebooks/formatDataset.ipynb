{
 "cells": [
  {
   "cell_type": "code",
   "execution_count": 9,
   "metadata": {},
   "outputs": [
    {
     "data": {
      "text/plain": [
       "'\"Florida Gators quarterback Tim Tebow waves as he stands on the sidelines before the Gators play against the Louisville Cardinals in the 2013 Allstate Sugar Bowl NCAA football game in New Orleans, Louisiana January 2, 2013. Former NFL quarterback and Heisman Trophy winner Tim Tebow has announced the opening of the Tebow CURE Hospital in Davao City, Philippines, which will serve the critical orthopedic needs of children who are not fortunate enough to afford treatments and simple procedures. The Tim Tebow Foundation announced in a press release that the hospital, which has been in the works since 2011, officially received its operating license from the health department last week and is already caring for impoverished children. However, the hospital\\'s grand opening will not happen until spring 2015. The hospital was built in partnership with the Christian organization CURE International, which is a non-profit devoted to the medical care of suffering children. The five-story facility will consist of 30 beds, three operating rooms specializing in pediatric orthopedic surgeries and a 54-member staff that is \"\"\"\"ready to provide care to the underserved children of the Philippines.\"\"\"\" Although Tebow is best known in America as a former star quarterback who was always outspoken about his Christian faith, he was born in Makati City, Philippines, where his parents worked as missionaries. Tebow has always maintained a strong affinity to provide for the needy people of his country of birth. \"\"\"\"I have always had a great love and passion for the Filipino people,\"\"\"\" Tebow, the founder of the foundation, said in a statement. \"\"\"\"It is so exciting to be able to provide healing and care for these incredibly deserving children halfway around the world.\"\"\"\" The main conditions that hospital will specialize in are clubfoot, bowed legs, cleft palate and other congenital limb abnormalities that are\"§0.0§0.0'"
      ]
     },
     "execution_count": 9,
     "metadata": {},
     "output_type": "execute_result"
    }
   ],
   "source": [
    "dataset = open('../dataset_predictions.csv', 'r', encoding=\"utf8\").read().split('\\n')\n",
    "for i in range(1, len(dataset) - 1):\n",
    "    textV = list(dataset[i])\n",
    "    textV[-4] = '§'\n",
    "    textV[-8] = '§'\n",
    "    dataset[i] = ''.join(textV)\n",
    "\n",
    "dataset.pop(0)\n",
    "\n",
    "dataset[1]\n"
   ]
  },
  {
   "cell_type": "code",
   "execution_count": 10,
   "metadata": {},
   "outputs": [],
   "source": [
    "finalText = \"text§prediction§label\\n\"\n",
    "with open('new_dataset_predictions.csv', 'a', encoding=\"utf8\") as f:\n",
    "    f.write(finalText)\n",
    "\n",
    "for i in dataset:\n",
    "    with open('new_dataset_predictions.csv', 'a', encoding=\"utf8\") as f:\n",
    "        f.write(i + '\\n')\n",
    "        f.close()"
   ]
  }
 ],
 "metadata": {
  "interpreter": {
   "hash": "b89b5cfaba6639976dc87ff2fec6d58faec662063367e2c229c520fe71072417"
  },
  "kernelspec": {
   "display_name": "Python 3.10.4 64-bit",
   "language": "python",
   "name": "python3"
  },
  "language_info": {
   "codemirror_mode": {
    "name": "ipython",
    "version": 3
   },
   "file_extension": ".py",
   "mimetype": "text/x-python",
   "name": "python",
   "nbconvert_exporter": "python",
   "pygments_lexer": "ipython3",
   "version": "3.8.10"
  },
  "orig_nbformat": 4
 },
 "nbformat": 4,
 "nbformat_minor": 2
}
