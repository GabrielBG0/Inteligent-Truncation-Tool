{
 "cells": [
  {
   "cell_type": "code",
   "execution_count": 1,
   "metadata": {},
   "outputs": [
    {
     "data": {
      "text/plain": [
       "'0'"
      ]
     },
     "execution_count": 1,
     "metadata": {},
     "output_type": "execute_result"
    }
   ],
   "source": [
    "dataset = open('dataset.csv', 'r', encoding=\"utf8\").read().split('\\n')\n",
    "\n",
    "for i in range(1, len(dataset) - 1):\n",
    "    textV = list(dataset[i])\n",
    "    textV[-2] = '§'\n",
    "    dataset[i] = ''.join(textV)\n",
    "\n",
    "for i in range(len(dataset)):\n",
    "    dataset[i] = dataset[i].split('§')\n",
    "\n",
    "dataset.pop(0)\n",
    "dataset[0][1]"
   ]
  },
  {
   "cell_type": "code",
   "execution_count": 2,
   "metadata": {},
   "outputs": [
    {
     "name": "stdout",
     "output_type": "stream",
     "text": [
      "\"Former Florida Gators quarterback Tim Tebow waves as he stands on the sidelines before the Gators play against the Louisville Cardinals in the 2013 Allstate Sugar Bowl NCAA football game in New Orleans, Louisiana January 2, 2013. Former NFL quarterback and Heisman Trophy winner Tim Tebow has announced the opening of the Tebow CURE Hospital in Davao City, Philippines, which will serve the critical orthopedic needs of children who are not fortunate enough to afford treatments and simple procedures. The Tim Tebow Foundation announced in a press release that the hospital, which has been in the works since 2011, officially received its operating license from the health department last week and is already caring for impoverished children. However, the hospital's grand opening will not happen until spring 2015. The hospital was built in partnership with the Christian organization CURE International, which is a non-profit devoted to the medical care of suffering children. The five-story facility will consist of 30 beds, three operating rooms specializing in pediatric orthopedic surgeries and a 54-member staff that is \"\"ready to provide care to the underserved children of the Philippines.\"\" Although Tebow is best known in America as a former star quarterback who was always outspoken about his Christian faith, he was born in Makati City, Philippines, where his parents worked as missionaries. Tebow has always maintained a strong affinity to provide for the needy people of his country of birth. \"\"I have always had a great love and passion for the Filipino people,\"\" Tebow, the founder of the foundation, said in a statement. \"\"It is so exciting to be able to provide healing and care for these incredibly deserving children halfway around the world.\"\" The main conditions that hospital will specialize in are clubfoot, bowed legs, cleft palate and other congenital limb abnormalities that are commonly treated in the Western world. \"\"These are simple procedures we take for granted in the U.S.,\"\" Executive Director of the Tim Tebow Foundation Erik Dellenback, said. \"\"The reality is that we hope to show people in the Philippines that there is faith, hope and love out there. We want to show them that the Western world cares about them and that they're not a deserted nation.\"\" The Tebow CURE Hospital marks the 12th hospital that CURE International has helped open around the world. \"\"We share the same heart for kids and sharing the Gospel,\"\" Mark Knecht, CURE International's CFO, said in a statement. \"\"Even though medical infrastructure is available in many parts of the Philippines, these children and their families are so poor they can never hope to afford the type of care needed. Access to Tim's high profile platform will allow us to heal more kids and impact more lives than ever before.\"\" Despite his fame and fortune, Tebow has not forgotten his religious values and the importance of sharing them with the people of the Philippines. In the past, Tebow has preached the Gospel to Filipino schoolchildren and entire villages. He also supports over 40 national evangelists working in the archipelago. Tebow has also been a strong pro-life activist. Along with speaking at pro-life events, Tebow is known to many pro-life advocates as a shining example of the purpose behind the pro-life movement. When his mother, Pam, was pregnant with him, doctors in the Philippines told her she needed to abort her baby if she wanted to live. Doctors described Tebow's fetus as a \"\"fetal tumor\"\" or a \"\"mass of cells.\"\" Despite being severely ill, Tebow's mother refused the abortion and gave birth to a baby (Tim) and survived. Three years after Tebow won the Heisman and after his first season with the Denver Broncos, Tebow and his mother were featured in a 2010 pro-life Super Bowl commercial where they shared their abortion story. The commercial was seen by millions of people.\"\n"
     ]
    },
    {
     "data": {
      "text/plain": [
       "'0'"
      ]
     },
     "execution_count": 2,
     "metadata": {},
     "output_type": "execute_result"
    }
   ],
   "source": [
    "data = [i[0] for i in dataset]\n",
    "labels = [i[1] for i in dataset[:-1]]\n",
    "print(data[0])\n",
    "labels[0]"
   ]
  },
  {
   "cell_type": "code",
   "execution_count": 4,
   "metadata": {},
   "outputs": [],
   "source": [
    "from transformers import AutoTokenizer, AutoModelForSequenceClassification\n",
    "\n",
    "tokenizer = AutoTokenizer.from_pretrained('Algorithms\\\\fake-news-heatmap-creator')\n",
    "model = AutoModelForSequenceClassification.from_pretrained('Algorithms\\\\fake-news-heatmap-creator')"
   ]
  },
  {
   "cell_type": "code",
   "execution_count": null,
   "metadata": {},
   "outputs": [],
   "source": [
    "import torch\n",
    "import torch.nn.functional as F\n",
    "import pandas as pd\n",
    "\n",
    "SIZE = 300\n",
    "MAX_TRAIN_LENTH = 400\n",
    "\n",
    "for i in range(len(labels)):\n",
    "    words = data[i].split(' ')\n",
    "    words = [*words, *words[:SIZE]]\n",
    "    batch = []\n",
    "    for j in range(len(words) - SIZE):\n",
    "        batch.append(' '.join(words[j:j + SIZE]) + '\\n')\n",
    "    \n",
    "    batch = tokenizer(batch, padding='max_length', truncation=True, return_tensors='pt', max_length=MAX_TRAIN_LENTH)\n",
    "\n",
    "    with torch.no_grad():\n",
    "        outputs = model(**batch)\n",
    "        predictions = F.softmax(outputs.logits, dim=1)\n",
    "        labels = [model.config.id2label[label_id] for label_id in labels.toList()]\n",
    "\n"
   ]
  }
 ],
 "metadata": {
  "interpreter": {
   "hash": "1baa965d5efe3ac65b79dfc60c0d706280b1da80fedb7760faf2759126c4f253"
  },
  "kernelspec": {
   "display_name": "Python 3.8.10 64-bit",
   "language": "python",
   "name": "python3"
  },
  "language_info": {
   "codemirror_mode": {
    "name": "ipython",
    "version": 3
   },
   "file_extension": ".py",
   "mimetype": "text/x-python",
   "name": "python",
   "nbconvert_exporter": "python",
   "pygments_lexer": "ipython3",
   "version": "3.8.10"
  },
  "orig_nbformat": 4
 },
 "nbformat": 4,
 "nbformat_minor": 2
}
