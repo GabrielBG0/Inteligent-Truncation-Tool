{
 "cells": [
  {
   "cell_type": "code",
   "execution_count": 4,
   "metadata": {},
   "outputs": [
    {
     "data": {
      "text/html": [
       "<div>\n",
       "<style scoped>\n",
       "    .dataframe tbody tr th:only-of-type {\n",
       "        vertical-align: middle;\n",
       "    }\n",
       "\n",
       "    .dataframe tbody tr th {\n",
       "        vertical-align: top;\n",
       "    }\n",
       "\n",
       "    .dataframe thead th {\n",
       "        text-align: right;\n",
       "    }\n",
       "</style>\n",
       "<table border=\"1\" class=\"dataframe\">\n",
       "  <thead>\n",
       "    <tr style=\"text-align: right;\">\n",
       "      <th></th>\n",
       "      <th>text</th>\n",
       "      <th>label</th>\n",
       "    </tr>\n",
       "  </thead>\n",
       "  <tbody>\n",
       "    <tr>\n",
       "      <th>0</th>\n",
       "      <td>(Photo: Bachman) Former Florida Gators quarter...</td>\n",
       "      <td>0</td>\n",
       "    </tr>\n",
       "    <tr>\n",
       "      <th>1</th>\n",
       "      <td>American pastor and missionary Thomas (Tom) Ra...</td>\n",
       "      <td>0</td>\n",
       "    </tr>\n",
       "    <tr>\n",
       "      <th>2</th>\n",
       "      <td>(Photo: REUTERS/Stringer) Strong winds and wav...</td>\n",
       "      <td>0</td>\n",
       "    </tr>\n",
       "    <tr>\n",
       "      <th>3</th>\n",
       "      <td>(Screengrab: CNB News) Psalm 47:1 As Painted o...</td>\n",
       "      <td>0</td>\n",
       "    </tr>\n",
       "    <tr>\n",
       "      <th>4</th>\n",
       "      <td>Photo: (REUTERS/Erik De Castro) Devotees carry...</td>\n",
       "      <td>0</td>\n",
       "    </tr>\n",
       "    <tr>\n",
       "      <th>...</th>\n",
       "      <td>...</td>\n",
       "      <td>...</td>\n",
       "    </tr>\n",
       "    <tr>\n",
       "      <th>5995</th>\n",
       "      <td>The first-ever \"Ex-Gay Pride Month\" reception,...</td>\n",
       "      <td>0</td>\n",
       "    </tr>\n",
       "    <tr>\n",
       "      <th>5996</th>\n",
       "      <td>A pastor and author of a recently released boo...</td>\n",
       "      <td>0</td>\n",
       "    </tr>\n",
       "    <tr>\n",
       "      <th>5997</th>\n",
       "      <td>WASHINGTON A former lesbian professor once con...</td>\n",
       "      <td>0</td>\n",
       "    </tr>\n",
       "    <tr>\n",
       "      <th>5998</th>\n",
       "      <td>Mark Labberton, president of Fuller Theologica...</td>\n",
       "      <td>0</td>\n",
       "    </tr>\n",
       "    <tr>\n",
       "      <th>5999</th>\n",
       "      <td>The Islamic States recent setbacks in Iraq and...</td>\n",
       "      <td>0</td>\n",
       "    </tr>\n",
       "  </tbody>\n",
       "</table>\n",
       "<p>6000 rows × 2 columns</p>\n",
       "</div>"
      ],
      "text/plain": [
       "                                                   text  label\n",
       "0     (Photo: Bachman) Former Florida Gators quarter...      0\n",
       "1     American pastor and missionary Thomas (Tom) Ra...      0\n",
       "2     (Photo: REUTERS/Stringer) Strong winds and wav...      0\n",
       "3     (Screengrab: CNB News) Psalm 47:1 As Painted o...      0\n",
       "4     Photo: (REUTERS/Erik De Castro) Devotees carry...      0\n",
       "...                                                 ...    ...\n",
       "5995  The first-ever \"Ex-Gay Pride Month\" reception,...      0\n",
       "5996  A pastor and author of a recently released boo...      0\n",
       "5997  WASHINGTON A former lesbian professor once con...      0\n",
       "5998  Mark Labberton, president of Fuller Theologica...      0\n",
       "5999  The Islamic States recent setbacks in Iraq and...      0\n",
       "\n",
       "[6000 rows x 2 columns]"
      ]
     },
     "execution_count": 4,
     "metadata": {},
     "output_type": "execute_result"
    }
   ],
   "source": [
    "import pickle\n",
    "import numpy as np\n",
    "import pandas as pd\n",
    "\n",
    "\n",
    "documents = pickle.load(\n",
    "    open(\"Datasets\\FakeNewsCorpus2\\dict_documents.pkl\", \"rb\"))\n",
    "indexes = np.load('Datasets\\FakeNewsCorpus2\\indexes.npy')\n",
    "lbls = np.load('Datasets\\FakeNewsCorpus2\\labels.npy')\n",
    "stopwords = open('Datasets\\FakeNewsCorpus2\\stopwords.txt', 'r', encoding=\"utf8\").read().split('\\n')\n",
    "\n",
    "texts = []\n",
    "labels = []\n",
    "for i in range(len(indexes)):\n",
    "    index = indexes[i]\n",
    "    texts.append(documents[index])\n",
    "    if lbls[i] == np.str_(\"-1\"):\n",
    "        labels.append(0)\n",
    "    else:\n",
    "        labels.append(1)\n",
    "\n",
    "\n",
    "for i in range(len(texts)):\n",
    "    querywords = texts[i].split()\n",
    "    resultwords  = [word for word in querywords if word not in stopwords]\n",
    "    result = ' '.join(resultwords)\n",
    "    texts[i] = result\n",
    "\n",
    "\n",
    "\n",
    "df = pd.DataFrame(data={\"text\": texts, \"label\": labels})\n",
    "df"
   ]
  },
  {
   "cell_type": "code",
   "execution_count": 7,
   "metadata": {},
   "outputs": [],
   "source": [
    "df.to_csv(\"Datasets\\FakeNewsCorpus2\\dataset2.csv\", index=False, encoding='utf-8')"
   ]
  },
  {
   "cell_type": "code",
   "execution_count": 1,
   "metadata": {},
   "outputs": [
    {
     "data": {
      "text/plain": [
       "'0'"
      ]
     },
     "execution_count": 1,
     "metadata": {},
     "output_type": "execute_result"
    }
   ],
   "source": [
    "dataset = open('dataset.csv', 'r', encoding=\"utf8\").read().split('\\n')\n",
    "\n",
    "for i in range(1, len(dataset) - 1):\n",
    "    textV = list(dataset[i])\n",
    "    textV[-2] = '§'\n",
    "    dataset[i] = ''.join(textV)\n",
    "\n",
    "for i in range(len(dataset)):\n",
    "    dataset[i] = dataset[i].split('§')\n",
    "\n",
    "dataset.pop(0)\n",
    "dataset[0][1]"
   ]
  },
  {
   "cell_type": "code",
   "execution_count": 6,
   "metadata": {},
   "outputs": [
    {
     "name": "stdout",
     "output_type": "stream",
     "text": [
      "\"Former Florida Gators quarterback Tim Tebow waves as he stands on the sidelines before the Gators play against the Louisville Cardinals in the 2013 Allstate Sugar Bowl NCAA football game in New Orleans, Louisiana January 2, 2013. Former NFL quarterback and Heisman Trophy winner Tim Tebow has announced the opening of the Tebow CURE Hospital in Davao City, Philippines, which will serve the critical orthopedic needs of children who are not fortunate enough to afford treatments and simple procedures. The Tim Tebow Foundation announced in a press release that the hospital, which has been in the works since 2011, officially received its operating license from the health department last week and is already caring for impoverished children. However, the hospital's grand opening will not happen until spring 2015. The hospital was built in partnership with the Christian organization CURE International, which is a non-profit devoted to the medical care of suffering children. The five-story facility will consist of 30 beds, three operating rooms specializing in pediatric orthopedic surgeries and a 54-member staff that is \"\"ready to provide care to the underserved children of the Philippines.\"\" Although Tebow is best known in America as a former star quarterback who was always outspoken about his Christian faith, he was born in Makati City, Philippines, where his parents worked as missionaries. Tebow has always maintained a strong affinity to provide for the needy people of his country of birth. \"\"I have always had a great love and passion for the Filipino people,\"\" Tebow, the founder of the foundation, said in a statement. \"\"It is so exciting to be able to provide healing and care for these incredibly deserving children halfway around the world.\"\" The main conditions that hospital will specialize in are clubfoot, bowed legs, cleft palate and other congenital limb abnormalities that are commonly treated in the Western world. \"\"These are simple procedures we take for granted in the U.S.,\"\" Executive Director of the Tim Tebow Foundation Erik Dellenback, said. \"\"The reality is that we hope to show people in the Philippines that there is faith, hope and love out there. We want to show them that the Western world cares about them and that they're not a deserted nation.\"\" The Tebow CURE Hospital marks the 12th hospital that CURE International has helped open around the world. \"\"We share the same heart for kids and sharing the Gospel,\"\" Mark Knecht, CURE International's CFO, said in a statement. \"\"Even though medical infrastructure is available in many parts of the Philippines, these children and their families are so poor they can never hope to afford the type of care needed. Access to Tim's high profile platform will allow us to heal more kids and impact more lives than ever before.\"\" Despite his fame and fortune, Tebow has not forgotten his religious values and the importance of sharing them with the people of the Philippines. In the past, Tebow has preached the Gospel to Filipino schoolchildren and entire villages. He also supports over 40 national evangelists working in the archipelago. Tebow has also been a strong pro-life activist. Along with speaking at pro-life events, Tebow is known to many pro-life advocates as a shining example of the purpose behind the pro-life movement. When his mother, Pam, was pregnant with him, doctors in the Philippines told her she needed to abort her baby if she wanted to live. Doctors described Tebow's fetus as a \"\"fetal tumor\"\" or a \"\"mass of cells.\"\" Despite being severely ill, Tebow's mother refused the abortion and gave birth to a baby (Tim) and survived. Three years after Tebow won the Heisman and after his first season with the Denver Broncos, Tebow and his mother were featured in a 2010 pro-life Super Bowl commercial where they shared their abortion story. The commercial was seen by millions of people.\"\n"
     ]
    },
    {
     "data": {
      "text/plain": [
       "'0'"
      ]
     },
     "execution_count": 6,
     "metadata": {},
     "output_type": "execute_result"
    }
   ],
   "source": [
    "data = [i[0] for i in dataset]\n",
    "labels = [i[1] for i in dataset[:-1]]\n",
    "print(data[0])\n",
    "labels[0]"
   ]
  },
  {
   "cell_type": "code",
   "execution_count": 5,
   "metadata": {},
   "outputs": [
    {
     "data": {
      "text/plain": [
       "'0'"
      ]
     },
     "execution_count": 5,
     "metadata": {},
     "output_type": "execute_result"
    }
   ],
   "source": []
  }
 ],
 "metadata": {
  "interpreter": {
   "hash": "b89b5cfaba6639976dc87ff2fec6d58faec662063367e2c229c520fe71072417"
  },
  "kernelspec": {
   "display_name": "Python 3.10.1 64-bit",
   "language": "python",
   "name": "python3"
  },
  "language_info": {
   "codemirror_mode": {
    "name": "ipython",
    "version": 3
   },
   "file_extension": ".py",
   "mimetype": "text/x-python",
   "name": "python",
   "nbconvert_exporter": "python",
   "pygments_lexer": "ipython3",
   "version": "3.10.1"
  },
  "orig_nbformat": 4
 },
 "nbformat": 4,
 "nbformat_minor": 2
}
