{
 "cells": [
  {
   "cell_type": "code",
   "execution_count": 1,
   "metadata": {},
   "outputs": [
    {
     "name": "stdout",
     "output_type": "stream",
     "text": [
      "lable 1: 1\n",
      "text 1: Veteran Commentator Calls Out the Growing Ethnonationalism at Fox News (and Its SO Ugly)  % of readers think this story is Fact. Add your two cents.  Headline: Bitcoin & Blockchain Searches Exceed Trump! Blockchain Stocks Are Next!  Lets be honest: This is pretty much all of Fox News commentary portion now, since the network became Trump Pravda.  Commentator and The Weekly Standard founder, Bill Kristol, sat for an interview with CNBC that was released on Thursday. Among various topics, he noted how Tucker Carlson, a Fox News superstar, has changed since he began with The Weekly Standard.  Speaking of Carlsons Fox News show:  I mean, it is close now to racism, white  I mean, I dont know if its racism exactly  but ethnonationalism of some kind, lets call it. A combination of dumbing down, as you said earlier, and stirring peoples emotions in a very unhealthy way, Kristol told CNBCs John Harwood in the interview published on Thursday.  Carlson has been getting a bit of attention lately from some who are seeing exactly what Kristol is talking about.  No, Carlson isnt dipping to the level of Sean Hannity, or other conspiracy-pushing MAGAdooks, but some of his work has a toe on the line.  Kristol went on to praise Carlsons early work.  Tucker Carlson was a great young reporter. He was one of the most gifted 24-year-olds Ive seen in the 20 years that I edited the magazine. His copy was sort of perfect at age 24, Kristol said. He had always a little touch of Pat Buchananism, I would say, paleo-conservativism.  Compare that to what hes devolved to, while working in the toxic, propaganda atmosphere of Fox News.  Carlson recently questioned the widespread outrage over Trumps reported comments referring to African nations as sh*thole countries. So, if you say Norway is a better place to live and Haiti is kind of a hole, well anyone whos been to those countries or has lived in them would agree. But were jumping up and down, Oh, you cant say that. Why cant you say that? Carlson asked.  Because Trumps comments werent that simple. He wrapped up the people in the comment when he asked why we couldnt get more immigrants from Norway. He didnt ask which place was nicer to visit.  When Trump made the comment, he did so to appeal to a base that is packed full of alt-right, white nationalists, anti-Semites, and neo-Nazis (not all, but far too many to just ignore). Reports are that he called associates and said he thought the comments would appeal to his base. So yes, even though some have played the blind, deaf, and dumb case of, I dont recall, its clear he said it.  And it was wrong.  Kristol is right to point out what is happening over at Fox News, as well as to call out those that are falling into the alt-right line of scumbaggery.  This isnt something that we should allow any national news network to make mainstream.  The post Veteran Commentator Calls Out the Growing Ethnonationalism at Fox News (and Its SO Ugly) appeared first on RedState.  Source: https://www.redstate.com/sweetie15/2018/01/25/veteran-commentator-calls-growing-ethnonationalism-fox-news-ugly/\n"
     ]
    }
   ],
   "source": [
    "import pickle\n",
    "import numpy as np\n",
    "import pandas as pd\n",
    "\n",
    "\n",
    "documents = pickle.load(\n",
    "    open(\"../../Datasets/FakeNewsCorpus0/dict_documents.pkl\", \"rb\"))\n",
    "indexes = np.load('../../Datasets/FakeNewsCorpus0/indexes.npy')\n",
    "lbls = np.load('../../Datasets/FakeNewsCorpus0/labels.npy')\n",
    "\n",
    "texts1 = []\n",
    "labels1 = []\n",
    "for i in range(len(indexes)):\n",
    "    index = indexes[i]\n",
    "    texts1.append(documents[index])\n",
    "    if lbls[i] == np.str_(\"-1\"):\n",
    "      labels1.append(0)\n",
    "    else:\n",
    "      labels1.append(1)\n",
    "\n",
    "print(\"lable 1: \" + str(labels1[0]))\n",
    "print(\"text 1: \" + texts1[0])\n"
   ]
  },
  {
   "cell_type": "code",
   "execution_count": 2,
   "metadata": {},
   "outputs": [
    {
     "name": "stdout",
     "output_type": "stream",
     "text": [
      "lable 1: 0\n",
      "text 1: (Photo: Reuters/Jean-Paul Pelissier) Visitors look at \"Piss Christ,\" a piece of art by U.S. artist Andres Serrano, partially destroyed by catholic activists in Avignon, April 19, 2011. The Piss Christ created in 1987, is a photography representing a small plastic crucifix submerged in a glass of the artist's urine.  The Associated Press removed a photo of an art piece called \"Piss Christ\" from its website Wednesday after a journalist pointed out the company's double standard. AP has refused to publish the Charlie Hebdo cartoons mocking Muhammad that led to Hebdo's murder due to its policy of not publishing \"deliberately provocative images.\"  Expand | Collapse (Photo: Twitter) French magazine Charlie Hebdo's September cover is seen in this image.  In a Wednesday interview with The Daily Beast, an AP spokesperson explained why the company did not publish, or cropped, images of Charlie Hebdo cartoons.  \"It's been our policy for years that we refrain from moving deliberately provocative images,\" the spokesman said.  Later that day, Timothy Carney of The Washington Examiner pointed out the double standard by noting that AP had a photo of \"Piss Christ,\" an Andres Serrano art photo from 1989 that was offensive to many Christians and deliberately provocative. (The artist placed a crucifix in a jar, filled the jar with his own urine and took a photo of it.)  Carney included a screenshot from the AP website showing that one could still purchase a photo of Serrano's work.  Around the time Carney published, AP pulled the image of \"Piss Christ.\" The link was replaced with a page that now says, \"Oops! This image is not part of your portfolio. Please contact customer support.\"  In an interview with Politico after the photo was removed, an AP spokesperson explained that AP has continued to revise and review its policies since 1989, the year that the photo of \"Piss Christ\" was taken.  \"It's been our policy for years that we refrain from moving deliberately provocative images. It is fair to say we have revised and reviewed our policies since 1989,\" the spokesperson said.  Charlie Hebdo editor Stephane Charbonnier and cartoonist Jean \"Cabu\" Cabut were murdered, along with 10 other people, in a Wednesday terrorist attack at the offices of the satirical newspaper where Hebdo worked. Hebdo was frequently accused of mocking Islam with his caricatures of Muhammad.  Serrano's work was also highly controversial. The piece was once vandalized, and the artist and gallery owners had received death threats.\n"
     ]
    }
   ],
   "source": [
    "documents = pickle.load(\n",
    "    open(\"../../Datasets/FakeNewsCorpus1/dict_documents.pkl\", \"rb\"))\n",
    "indexes = np.load('../../Datasets/FakeNewsCorpus1/indexes.npy')\n",
    "lbls = np.load('../../Datasets/FakeNewsCorpus1/labels.npy')\n",
    "\n",
    "texts2 = []\n",
    "labels2 = []\n",
    "for i in range(len(indexes)):\n",
    "    index = indexes[i]\n",
    "    texts2.append(documents[index])\n",
    "    if lbls[i] == np.str_(\"-1\"):\n",
    "      labels2.append(0)\n",
    "    else:\n",
    "      labels2.append(1)\n",
    "\n",
    "print(\"lable 1: \" + str(labels2[0]))\n",
    "print(\"text 1: \" + texts2[0])\n"
   ]
  },
  {
   "cell_type": "code",
   "execution_count": 3,
   "metadata": {},
   "outputs": [],
   "source": [
    "texts = [*texts1, *texts2]\n",
    "labels = [*labels1, *labels2]\n"
   ]
  },
  {
   "cell_type": "code",
   "execution_count": 4,
   "metadata": {},
   "outputs": [
    {
     "data": {
      "text/html": [
       "<div>\n",
       "<style scoped>\n",
       "    .dataframe tbody tr th:only-of-type {\n",
       "        vertical-align: middle;\n",
       "    }\n",
       "\n",
       "    .dataframe tbody tr th {\n",
       "        vertical-align: top;\n",
       "    }\n",
       "\n",
       "    .dataframe thead th {\n",
       "        text-align: right;\n",
       "    }\n",
       "</style>\n",
       "<table border=\"1\" class=\"dataframe\">\n",
       "  <thead>\n",
       "    <tr style=\"text-align: right;\">\n",
       "      <th></th>\n",
       "      <th>text</th>\n",
       "      <th>label</th>\n",
       "    </tr>\n",
       "  </thead>\n",
       "  <tbody>\n",
       "    <tr>\n",
       "      <th>0</th>\n",
       "      <td>Veteran Commentator Calls Out the Growing Ethn...</td>\n",
       "      <td>1</td>\n",
       "    </tr>\n",
       "    <tr>\n",
       "      <th>1</th>\n",
       "      <td>Lost Words, Hidden Words, Otters, Banks and Bo...</td>\n",
       "      <td>1</td>\n",
       "    </tr>\n",
       "    <tr>\n",
       "      <th>2</th>\n",
       "      <td>Facebook/DestinyTheGame Promo image for \"Desti...</td>\n",
       "      <td>0</td>\n",
       "    </tr>\n",
       "    <tr>\n",
       "      <th>3</th>\n",
       "      <td>(Screenshot: Facebook) Dr. Melina Abdullah, pr...</td>\n",
       "      <td>0</td>\n",
       "    </tr>\n",
       "    <tr>\n",
       "      <th>4</th>\n",
       "      <td>(Photo: Reuters) The teams of North and South ...</td>\n",
       "      <td>0</td>\n",
       "    </tr>\n",
       "    <tr>\n",
       "      <th>...</th>\n",
       "      <td>...</td>\n",
       "      <td>...</td>\n",
       "    </tr>\n",
       "    <tr>\n",
       "      <th>11995</th>\n",
       "      <td>Expand | Collapse (Photo: JJ Hairston) JJ Hair...</td>\n",
       "      <td>0</td>\n",
       "    </tr>\n",
       "    <tr>\n",
       "      <th>11996</th>\n",
       "      <td>(Photo: Facebook/Tye Tribbett) Gospel artist T...</td>\n",
       "      <td>0</td>\n",
       "    </tr>\n",
       "    <tr>\n",
       "      <th>11997</th>\n",
       "      <td>(Photo: Stellar Gospel Music Awards Instagram)...</td>\n",
       "      <td>0</td>\n",
       "    </tr>\n",
       "    <tr>\n",
       "      <th>11998</th>\n",
       "      <td>(Photo: BET Networks) Donnie McClurkin is an a...</td>\n",
       "      <td>0</td>\n",
       "    </tr>\n",
       "    <tr>\n",
       "      <th>11999</th>\n",
       "      <td>(Photo: Reuters/Mario Anzuoni) Singer Alicia K...</td>\n",
       "      <td>0</td>\n",
       "    </tr>\n",
       "  </tbody>\n",
       "</table>\n",
       "<p>12000 rows × 2 columns</p>\n",
       "</div>"
      ],
      "text/plain": [
       "                                                    text  label\n",
       "0      Veteran Commentator Calls Out the Growing Ethn...      1\n",
       "1      Lost Words, Hidden Words, Otters, Banks and Bo...      1\n",
       "2      Facebook/DestinyTheGame Promo image for \"Desti...      0\n",
       "3      (Screenshot: Facebook) Dr. Melina Abdullah, pr...      0\n",
       "4      (Photo: Reuters) The teams of North and South ...      0\n",
       "...                                                  ...    ...\n",
       "11995  Expand | Collapse (Photo: JJ Hairston) JJ Hair...      0\n",
       "11996  (Photo: Facebook/Tye Tribbett) Gospel artist T...      0\n",
       "11997  (Photo: Stellar Gospel Music Awards Instagram)...      0\n",
       "11998  (Photo: BET Networks) Donnie McClurkin is an a...      0\n",
       "11999  (Photo: Reuters/Mario Anzuoni) Singer Alicia K...      0\n",
       "\n",
       "[12000 rows x 2 columns]"
      ]
     },
     "execution_count": 4,
     "metadata": {},
     "output_type": "execute_result"
    }
   ],
   "source": [
    "df = pd.DataFrame(data={\"text\": texts, \"label\": labels})\n",
    "df\n"
   ]
  },
  {
   "cell_type": "code",
   "execution_count": 5,
   "metadata": {},
   "outputs": [],
   "source": [
    "df.to_csv(\"datasetA.csv\",\n",
    "          index=False, encoding='utf-8', sep='§')"
   ]
  }
 ],
 "metadata": {
  "interpreter": {
   "hash": "1baa965d5efe3ac65b79dfc60c0d706280b1da80fedb7760faf2759126c4f253"
  },
  "kernelspec": {
   "display_name": "Python 3.8.10 64-bit",
   "language": "python",
   "name": "python3"
  },
  "language_info": {
   "codemirror_mode": {
    "name": "ipython",
    "version": 3
   },
   "file_extension": ".py",
   "mimetype": "text/x-python",
   "name": "python",
   "nbconvert_exporter": "python",
   "pygments_lexer": "ipython3",
   "version": "3.8.10"
  },
  "orig_nbformat": 4
 },
 "nbformat": 4,
 "nbformat_minor": 2
}
