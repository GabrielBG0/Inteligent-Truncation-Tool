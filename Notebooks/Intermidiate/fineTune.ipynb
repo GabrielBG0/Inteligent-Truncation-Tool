{
 "cells": [
  {
   "cell_type": "code",
   "execution_count": 1,
   "metadata": {},
   "outputs": [
    {
     "data": {
      "text/plain": [
       "'1'"
      ]
     },
     "execution_count": 1,
     "metadata": {},
     "output_type": "execute_result"
    }
   ],
   "source": [
    "dataset = open('../../CSVs/datasetA.csv', 'r',\n",
    "               encoding=\"utf8\").read().split('\\n')\n",
    "\n",
    "for i in range(len(dataset)):\n",
    "    dataset[i] = dataset[i].split('§')\n",
    "\n",
    "dataset.pop(0)\n",
    "dataset[0][1]"
   ]
  },
  {
   "cell_type": "code",
   "execution_count": 2,
   "metadata": {},
   "outputs": [
    {
     "name": "stdout",
     "output_type": "stream",
     "text": [
      "Veteran Commentator Calls Out the Growing Ethnonationalism at Fox News (and Its SO Ugly)  % of readers think this story is Fact. Add your two cents.  Headline: Bitcoin & Blockchain Searches Exceed Trump! Blockchain Stocks Are Next!  Lets be honest: This is pretty much all of Fox News commentary portion now, since the network became Trump Pravda.  Commentator and The Weekly Standard founder, Bill Kristol, sat for an interview with CNBC that was released on Thursday. Among various topics, he noted how Tucker Carlson, a Fox News superstar, has changed since he began with The Weekly Standard.  Speaking of Carlsons Fox News show:  I mean, it is close now to racism, white  I mean, I dont know if its racism exactly  but ethnonationalism of some kind, lets call it. A combination of dumbing down, as you said earlier, and stirring peoples emotions in a very unhealthy way, Kristol told CNBCs John Harwood in the interview published on Thursday.  Carlson has been getting a bit of attention lately from some who are seeing exactly what Kristol is talking about.  No, Carlson isnt dipping to the level of Sean Hannity, or other conspiracy-pushing MAGAdooks, but some of his work has a toe on the line.  Kristol went on to praise Carlsons early work.  Tucker Carlson was a great young reporter. He was one of the most gifted 24-year-olds Ive seen in the 20 years that I edited the magazine. His copy was sort of perfect at age 24, Kristol said. He had always a little touch of Pat Buchananism, I would say, paleo-conservativism.  Compare that to what hes devolved to, while working in the toxic, propaganda atmosphere of Fox News.  Carlson recently questioned the widespread outrage over Trumps reported comments referring to African nations as sh*thole countries. So, if you say Norway is a better place to live and Haiti is kind of a hole, well anyone whos been to those countries or has lived in them would agree. But were jumping up and down, Oh, you cant say that. Why cant you say that? Carlson asked.  Because Trumps comments werent that simple. He wrapped up the people in the comment when he asked why we couldnt get more immigrants from Norway. He didnt ask which place was nicer to visit.  When Trump made the comment, he did so to appeal to a base that is packed full of alt-right, white nationalists, anti-Semites, and neo-Nazis (not all, but far too many to just ignore). Reports are that he called associates and said he thought the comments would appeal to his base. So yes, even though some have played the blind, deaf, and dumb case of, I dont recall, its clear he said it.  And it was wrong.  Kristol is right to point out what is happening over at Fox News, as well as to call out those that are falling into the alt-right line of scumbaggery.  This isnt something that we should allow any national news network to make mainstream.  The post Veteran Commentator Calls Out the Growing Ethnonationalism at Fox News (and Its SO Ugly) appeared first on RedState.  Source: https://www.redstate.com/sweetie15/2018/01/25/veteran-commentator-calls-growing-ethnonationalism-fox-news-ugly/\n"
     ]
    },
    {
     "data": {
      "text/plain": [
       "'1'"
      ]
     },
     "execution_count": 2,
     "metadata": {},
     "output_type": "execute_result"
    }
   ],
   "source": [
    "data = [i[0] for i in dataset]\n",
    "labels = [i[1] for i in dataset[:-1]]\n",
    "data = data[:1200]\n",
    "labels = labels[:1200]\n",
    "print(data[0])\n",
    "labels[0]"
   ]
  },
  {
   "cell_type": "code",
   "execution_count": 3,
   "metadata": {},
   "outputs": [
    {
     "data": {
      "text/plain": [
       "(1200, 147540)"
      ]
     },
     "execution_count": 3,
     "metadata": {},
     "output_type": "execute_result"
    }
   ],
   "source": [
    "from sklearn.feature_extraction.text import TfidfVectorizer\n",
    "vectorizer = TfidfVectorizer(ngram_range=(1,3), min_df=2)\n",
    "X = vectorizer.fit_transform(data)\n",
    "X.shape"
   ]
  },
  {
   "cell_type": "code",
   "execution_count": 4,
   "metadata": {},
   "outputs": [
    {
     "name": "stderr",
     "output_type": "stream",
     "text": [
      "C:\\Users\\gabre\\AppData\\Roaming\\Python\\Python38\\site-packages\\sklearn\\neural_network\\_multilayer_perceptron.py:699: UserWarning: Training interrupted by user.\n",
      "  warnings.warn(\"Training interrupted by user.\")\n"
     ]
    }
   ],
   "source": [
    "# MLP, SVM, Random Forest\n",
    "from sklearn.model_selection import train_test_split, GridSearchCV \n",
    "from sklearn.neural_network import MLPClassifier\n",
    "from sklearn.svm import SVC\n",
    "from sklearn.ensemble import RandomForestClassifier\n",
    "\n",
    "mlpc = MLPClassifier()\n",
    "mlpcParams = {'hidden_layer_sizes': [(100,), (100,100), (100,200), (100,100,100)], \n",
    "                'alpha': [0.0001, 0.001, 0.01, 0.1], \n",
    "                'learning_rate': ['constant', 'invscaling', 'adaptive'], \n",
    "                'learning_rate_init': [0.001, 0.01, 0.1, 0.5],\n",
    "                'max_iter': [100, 200, 500, 1000],\n",
    "                'tol': [0.0001, 0.001, 0.01, 0.1]}\n",
    "gsMLPC = GridSearchCV(mlpc, mlpcParams, scoring='f1_macro', cv=5)\n",
    "\n",
    "\n",
    "svc = SVC()\n",
    "svcParams = {'C': [0.1, 1, 10, 100, 1000], \n",
    "                'gamma': [0.001, 0.01, 0.1, 1, 10], \n",
    "                'kernel': ['linear', 'poly', 'rbf', 'sigmoid', 'precomputed'],\n",
    "                'degree': [2, 3, 4, 5, 6],\n",
    "                'coef0': [0.1, 0.2, 0.3, 0.4, 0.5],\n",
    "                'shrinking': [True, False]}\n",
    "gsSVC = GridSearchCV(svc, svcParams, scoring='f1_macro', cv=5)\n",
    "\n",
    "\n",
    "rfc = RandomForestClassifier()\n",
    "rfcParams = {'n_estimators': [100, 200, 500], \n",
    "                'criteion': ['gini', 'entropy'],\n",
    "                'min_samples_split': [2, 5, 10, 20, 50, 100],\n",
    "                'min_samples_leaf': [1, 2, 5, 10, 20, 50, 100],\n",
    "                'max_features': ['auto', 'sqrt', 'log2'],\n",
    "                'max_depth': [None, 2, 5, 10, 20, 50, 100]}\n",
    "gsRFC = GridSearchCV(rfc, rfcParams, scoring='f1_macro', cv=5)\n",
    "\n",
    "gsMLPC.fit(X, labels)\n",
    "gsSVC.fit(X, labels)\n",
    "gsRFC.fit(X, labels)\n",
    "\n",
    "print('Best params MLPC:\\n' + gsMLPC.best_params_ + '\\n')\n",
    "print('Best params SVC: \\n' + gsSVC.best_params_ + '\\n')\n",
    "print('Best params RFC: \\n' + gsRFC.best_params_ + '\\n')"
   ]
  }
 ],
 "metadata": {
  "interpreter": {
   "hash": "570feb405e2e27c949193ac68f46852414290d515b0ba6e5d90d076ed2284471"
  },
  "kernelspec": {
   "display_name": "Python 3.8.10 64-bit",
   "language": "python",
   "name": "python3"
  },
  "language_info": {
   "codemirror_mode": {
    "name": "ipython",
    "version": 3
   },
   "file_extension": ".py",
   "mimetype": "text/x-python",
   "name": "python",
   "nbconvert_exporter": "python",
   "pygments_lexer": "ipython3",
   "version": "3.8.10"
  },
  "orig_nbformat": 4
 },
 "nbformat": 4,
 "nbformat_minor": 2
}
