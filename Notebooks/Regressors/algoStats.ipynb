{
 "cells": [
  {
   "cell_type": "code",
   "execution_count": 1,
   "metadata": {},
   "outputs": [],
   "source": [
    "import joblib\n",
    "\n",
    "mlpr = joblib.load('../../regressor/mlpr.sav')\n",
    "svr = joblib.load('../../regressor/svr.sav')\n",
    "vect = joblib.load('../../regressor/vect.sav')\n"
   ]
  },
  {
   "cell_type": "code",
   "execution_count": 2,
   "metadata": {},
   "outputs": [
    {
     "name": "stderr",
     "output_type": "stream",
     "text": [
      "C:\\Users\\gabre\\AppData\\Local\\Temp\\ipykernel_4180\\345529165.py:3: ParserWarning: Falling back to the 'python' engine because the separator encoded in utf-8 is > 1 char long, and the 'c' engine does not support such separators; you can avoid this warning by specifying engine='python'.\n",
      "  data = pd.read_csv('../../CSVs/prediction_int_score_part/1.csv', sep='§')\n"
     ]
    },
    {
     "ename": "TypeError",
     "evalue": "sparse matrix length is ambiguous; use getnnz() or shape[0]",
     "output_type": "error",
     "traceback": [
      "\u001b[1;31m---------------------------------------------------------------------------\u001b[0m",
      "\u001b[1;31mTypeError\u001b[0m                                 Traceback (most recent call last)",
      "\u001b[1;32md:\\GitHub\\Inteligent-Truncation-Tool\\Notebooks\\Regressors\\algoStats.ipynb Cell 2'\u001b[0m in \u001b[0;36m<cell line: 9>\u001b[1;34m()\u001b[0m\n\u001b[0;32m      <a href='vscode-notebook-cell:/d%3A/GitHub/Inteligent-Truncation-Tool/Notebooks/Regressors/algoStats.ipynb#ch0000002?line=4'>5</a>\u001b[0m Y \u001b[39m=\u001b[39m data[\u001b[39m'\u001b[39m\u001b[39mscore\u001b[39m\u001b[39m'\u001b[39m]\n\u001b[0;32m      <a href='vscode-notebook-cell:/d%3A/GitHub/Inteligent-Truncation-Tool/Notebooks/Regressors/algoStats.ipynb#ch0000002?line=6'>7</a>\u001b[0m X \u001b[39m=\u001b[39m vect\u001b[39m.\u001b[39mtransform(X)\n\u001b[1;32m----> <a href='vscode-notebook-cell:/d%3A/GitHub/Inteligent-Truncation-Tool/Notebooks/Regressors/algoStats.ipynb#ch0000002?line=8'>9</a>\u001b[0m \u001b[39mlen\u001b[39;49m(X)\n",
      "File \u001b[1;32m~\\AppData\\Roaming\\Python\\Python38\\site-packages\\scipy\\sparse\\_base.py:345\u001b[0m, in \u001b[0;36mspmatrix.__len__\u001b[1;34m(self)\u001b[0m\n\u001b[0;32m    <a href='file:///c%3A/Users/gabre/AppData/Roaming/Python/Python38/site-packages/scipy/sparse/_base.py?line=343'>344</a>\u001b[0m \u001b[39mdef\u001b[39;00m \u001b[39m__len__\u001b[39m(\u001b[39mself\u001b[39m):\n\u001b[1;32m--> <a href='file:///c%3A/Users/gabre/AppData/Roaming/Python/Python38/site-packages/scipy/sparse/_base.py?line=344'>345</a>\u001b[0m     \u001b[39mraise\u001b[39;00m \u001b[39mTypeError\u001b[39;00m(\u001b[39m\"\u001b[39m\u001b[39msparse matrix length is ambiguous; use getnnz()\u001b[39m\u001b[39m\"\u001b[39m\n\u001b[0;32m    <a href='file:///c%3A/Users/gabre/AppData/Roaming/Python/Python38/site-packages/scipy/sparse/_base.py?line=345'>346</a>\u001b[0m                     \u001b[39m\"\u001b[39m\u001b[39m or shape[0]\u001b[39m\u001b[39m\"\u001b[39m)\n",
      "\u001b[1;31mTypeError\u001b[0m: sparse matrix length is ambiguous; use getnnz() or shape[0]"
     ]
    }
   ],
   "source": [
    "import pandas as pd\n",
    "\n",
    "data = pd.read_csv('../../CSVs/prediction_int_score_part/1.csv', sep='§')\n",
    "X = data['text']\n",
    "Y = data['score']\n",
    "\n",
    "X = vect.transform(X)\n"
   ]
  },
  {
   "cell_type": "code",
   "execution_count": 3,
   "metadata": {},
   "outputs": [
    {
     "name": "stdout",
     "output_type": "stream",
     "text": [
      "1.0185208020825083\n"
     ]
    },
    {
     "data": {
      "text/plain": [
       "0.4334522055559985"
      ]
     },
     "execution_count": 3,
     "metadata": {},
     "output_type": "execute_result"
    }
   ],
   "source": [
    "from sklearn.metrics import mean_absolute_error, r2_score\n",
    "mlpr_pred = mlpr.predict(X)\n",
    "print(mean_absolute_error(Y, mlpr_pred))\n",
    "r2_score(Y, mlpr_pred)\n"
   ]
  },
  {
   "cell_type": "code",
   "execution_count": 4,
   "metadata": {},
   "outputs": [],
   "source": [
    "svr_pred = svr.predict(X)\n",
    "print(mean_absolute_error(Y, svr_pred))\n",
    "r2_score(Y, svr_pred)\n"
   ]
  }
 ],
 "metadata": {
  "interpreter": {
   "hash": "570feb405e2e27c949193ac68f46852414290d515b0ba6e5d90d076ed2284471"
  },
  "kernelspec": {
   "display_name": "Python 3.8.10 64-bit",
   "language": "python",
   "name": "python3"
  },
  "language_info": {
   "codemirror_mode": {
    "name": "ipython",
    "version": 3
   },
   "file_extension": ".py",
   "mimetype": "text/x-python",
   "name": "python",
   "nbconvert_exporter": "python",
   "pygments_lexer": "ipython3",
   "version": "3.8.10"
  },
  "orig_nbformat": 4
 },
 "nbformat": 4,
 "nbformat_minor": 2
}
