{
 "cells": [
  {
   "cell_type": "code",
   "execution_count": 1,
   "metadata": {},
   "outputs": [],
   "source": [
    "import joblib\n",
    "\n",
    "mlpr = joblib.load('../../regressor/mlpr.sav')\n",
    "vect = joblib.load('../../regressor/vect.sav')\n"
   ]
  },
  {
   "cell_type": "code",
   "execution_count": 2,
   "metadata": {},
   "outputs": [
    {
     "data": {
      "text/plain": [
       "<bound method BaseEstimator.get_params of MLPRegressor(hidden_layer_sizes=(100, 200), learning_rate='adaptive',\n",
       "             learning_rate_init=0.1, max_iter=1000, tol=0.001)>"
      ]
     },
     "execution_count": 2,
     "metadata": {},
     "output_type": "execute_result"
    }
   ],
   "source": [
    "mlpr.get_params\n"
   ]
  },
  {
   "cell_type": "code",
   "execution_count": 2,
   "metadata": {},
   "outputs": [
    {
     "name": "stderr",
     "output_type": "stream",
     "text": [
      "C:\\Users\\gabre\\AppData\\Local\\Temp\\ipykernel_9028\\1549686399.py:3: ParserWarning: Falling back to the 'python' engine because the separator encoded in utf-8 is > 1 char long, and the 'c' engine does not support such separators; you can avoid this warning by specifying engine='python'.\n",
      "  data = pd.read_csv('../../CSVs/prediction_int_score_part/1.csv', sep='§')\n"
     ]
    }
   ],
   "source": [
    "import pandas as pd\n",
    "\n",
    "data = pd.read_csv('../../CSVs/prediction_int_score_part/1.csv', sep='§')\n",
    "X = data['text']\n",
    "Y = data['score']\n",
    "\n",
    "X = vect.transform(X)\n"
   ]
  },
  {
   "cell_type": "code",
   "execution_count": 3,
   "metadata": {},
   "outputs": [
    {
     "name": "stdout",
     "output_type": "stream",
     "text": [
      "0.7811208282216889\n"
     ]
    },
    {
     "data": {
      "text/plain": [
       "0.6551071656220053"
      ]
     },
     "execution_count": 3,
     "metadata": {},
     "output_type": "execute_result"
    }
   ],
   "source": [
    "from sklearn.metrics import mean_absolute_error, r2_score\n",
    "mlpr_pred = mlpr.predict(X)\n",
    "print(mean_absolute_error(Y, mlpr_pred))\n",
    "r2_score(Y, mlpr_pred)\n"
   ]
  },
  {
   "cell_type": "markdown",
   "metadata": {},
   "source": [
    "10k\n",
    "\n",
    "mean_absolute_error = 1.0185208020825083\n",
    "\n",
    "R2 = 0.4334522055559985"
   ]
  },
  {
   "cell_type": "markdown",
   "metadata": {},
   "source": [
    "100k\n",
    "\n",
    "mean_absolute_error = 0.7811208282216889\n",
    "\n",
    "R2 = 0.6551071656220053"
   ]
  }
 ],
 "metadata": {
  "interpreter": {
   "hash": "570feb405e2e27c949193ac68f46852414290d515b0ba6e5d90d076ed2284471"
  },
  "kernelspec": {
   "display_name": "Python 3.8.10 64-bit",
   "language": "python",
   "name": "python3"
  },
  "language_info": {
   "codemirror_mode": {
    "name": "ipython",
    "version": 3
   },
   "file_extension": ".py",
   "mimetype": "text/x-python",
   "name": "python",
   "nbconvert_exporter": "python",
   "pygments_lexer": "ipython3",
   "version": "3.8.10"
  },
  "orig_nbformat": 4
 },
 "nbformat": 4,
 "nbformat_minor": 2
}
