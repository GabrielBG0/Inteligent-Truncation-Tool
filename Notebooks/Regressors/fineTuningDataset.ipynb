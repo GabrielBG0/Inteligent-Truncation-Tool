{
 "cells": [
  {
   "cell_type": "code",
   "execution_count": 1,
   "metadata": {},
   "outputs": [
    {
     "name": "stderr",
     "output_type": "stream",
     "text": [
      "C:\\Users\\gabre\\AppData\\Local\\Temp\\ipykernel_19840\\3335999697.py:2: ParserWarning: Falling back to the 'python' engine because the separator encoded in utf-8 is > 1 char long, and the 'c' engine does not support such separators; you can avoid this warning by specifying engine='python'.\n",
      "  ds = pd.read_csv('../../CSVs/dataset_predictionsIntScore.csv', sep='§')\n"
     ]
    }
   ],
   "source": [
    "import pandas as pd\n",
    "ds = pd.read_csv('../../CSVs/dataset_predictionsIntScore.csv', sep='§')\n",
    "\n",
    "ds.sample(frac=0.05, random_state=1).to_csv('../../CSVs/dataset_predictionsIntScore_sample.csv', sep='§', index=False)\n"
   ]
  },
  {
   "cell_type": "code",
   "execution_count": null,
   "metadata": {},
   "outputs": [],
   "source": []
  }
 ],
 "metadata": {
  "interpreter": {
   "hash": "570feb405e2e27c949193ac68f46852414290d515b0ba6e5d90d076ed2284471"
  },
  "kernelspec": {
   "display_name": "Python 3.8.10 64-bit",
   "language": "python",
   "name": "python3"
  },
  "language_info": {
   "codemirror_mode": {
    "name": "ipython",
    "version": 3
   },
   "file_extension": ".py",
   "mimetype": "text/x-python",
   "name": "python",
   "nbconvert_exporter": "python",
   "pygments_lexer": "ipython3",
   "version": "3.8.10"
  },
  "orig_nbformat": 4
 },
 "nbformat": 4,
 "nbformat_minor": 2
}
